{
 "cells": [
  {
   "cell_type": "markdown",
   "id": "648eff22",
   "metadata": {},
   "source": [
    "Read in raw netCDF inflow plane data from AMR-Wind sampling files, and reformat the data so it is dimensioned properly."
   ]
  },
  {
   "cell_type": "code",
   "execution_count": 1,
   "id": "0ef11467",
   "metadata": {},
   "outputs": [],
   "source": [
    "from datetime import datetime\n",
    "import numpy as np\n",
    "import matplotlib.pyplot as plt\n",
    "from netCDF4 import Dataset\n",
    "import xarray as xr\n",
    "from matplotlib.colors import TwoSlopeNorm\n",
    "from pathlib import Path\n",
    "import pandas as pd\n",
    "import h5py\n",
    "\n",
    "import dask.array as da"
   ]
  },
  {
   "cell_type": "code",
   "execution_count": 2,
   "id": "a26f3090",
   "metadata": {},
   "outputs": [
    {
     "name": "stdout",
     "output_type": "stream",
     "text": [
      "Number of campaigns: 345\n"
     ]
    }
   ],
   "source": [
    "### Read in data and do some minimal processing\n",
    "parent_dir = Path('/scratch/orybchuk/wakedynamics/bcs-ldm/simulations/072415/large_campaigns/precursor/post_processing')\n",
    "outdir = Path('/scratch/orybchuk/wakedynamics/bcs-ldm/data/072415/post_processing/nc_dimensioned')\n",
    "outdir.mkdir(exist_ok=True)\n",
    "\n",
    "campaign_files = list(parent_dir.glob('sampling*.nc'))\n",
    "campaign_files.sort()\n",
    "n_campaigns = len(campaign_files)\n",
    "print(f\"Number of campaigns: {n_campaigns}\")"
   ]
  },
  {
   "cell_type": "markdown",
   "id": "e1fdab25",
   "metadata": {},
   "source": [
    "# Common parameters"
   ]
  },
  {
   "cell_type": "code",
   "execution_count": 3,
   "id": "ccd4f41c",
   "metadata": {},
   "outputs": [
    {
     "name": "stdout",
     "output_type": "stream",
     "text": [
      "varlist: ['velocityx', 'velocityy', 'velocityz', 'temperature', 'tke']\n"
     ]
    }
   ],
   "source": [
    "### Set up parameters common to all campaigns\n",
    "## User inputs\n",
    "varlist = ['velocityx', 'velocityy', 'velocityz', 'temperature', 'tke']  # Manually build this\n",
    "use_dask = False\n",
    "frequency_output = 1\n",
    "\n",
    "## Data from simulations\n",
    "with h5py.File(campaign_files[0]) as f_h5py:\n",
    "    # Deal with time\n",
    "    time = f_h5py['time'][:]\n",
    "    time = np.round(time, 4)  # Round to deal with weird float behavior\n",
    "    timestep = time[1] - time[0]\n",
    "    \n",
    "    # List of variables to process\n",
    "    tmp_meas = list(f_h5py)[0]\n",
    "    full_varlist = list(f_h5py[tmp_meas].keys())\n",
    "for var in varlist:\n",
    "    assert var in full_varlist\n",
    "print(\"varlist:\", varlist)"
   ]
  },
  {
   "cell_type": "markdown",
   "id": "190f1f31",
   "metadata": {},
   "source": [
    "# Reformat inflow BCs at $x=-3D$"
   ]
  },
  {
   "cell_type": "code",
   "execution_count": 4,
   "id": "2790582a",
   "metadata": {},
   "outputs": [
    {
     "name": "stdout",
     "output_type": "stream",
     "text": [
      "Start reformatting data 2024-02-12 21:25:48.371281\n",
      "0000 - 2024-02-12 21:25:48.371642\n",
      "0010 - 2024-02-12 21:47:33.141924\n",
      "0020 - 2024-02-12 22:17:16.898017\n",
      "0030 - 2024-02-12 22:48:24.161831\n",
      "0040 - 2024-02-12 23:18:14.888077\n",
      "0050 - 2024-02-12 23:49:34.969857\n",
      "0060 - 2024-02-13 00:18:03.752079\n",
      "0070 - 2024-02-13 00:49:45.980047\n",
      "0080 - 2024-02-13 01:18:40.770895\n",
      "0090 - 2024-02-13 01:49:45.178376\n",
      "0100 - 2024-02-13 02:19:59.192429\n",
      "0110 - 2024-02-13 02:52:24.369191\n",
      "End reformatting data 2024-02-13 03:18:56.121269\n"
     ]
    }
   ],
   "source": [
    "### Reformat inflow boundary conditions\n",
    "print(\"Start reformatting data\", datetime.now())\n",
    "\n",
    "curr_varname = 'inflow-bc-3D'\n",
    "\n",
    "for fcampaign in campaign_files:\n",
    "    campaign_id = fcampaign.name[8:12]\n",
    "    \n",
    "    if int(campaign_id) % 10 == 0: print(campaign_id+' - '+str(datetime.now()))\n",
    "    \n",
    "    ## Metadata for inflow BCs\n",
    "    with h5py.File(fcampaign) as f_h5py:\n",
    "        f_bc = f_h5py[curr_varname]\n",
    "        bc_coords_all = f_bc['coordinates'][:]\n",
    "        time_file = f_h5py['time'][:]\n",
    "        bc_xcoords = np.sort(np.unique(bc_coords_all[:,0]))\n",
    "        bc_ycoords = np.sort(np.unique(bc_coords_all[:,1]))\n",
    "        bc_zcoords = np.sort(np.unique(bc_coords_all[:,2]))\n",
    "    bc_coords = {'time':time_file, 'x': bc_xcoords, 'y': bc_ycoords, 'z': bc_zcoords}\n",
    "    ds_bc = xr.Dataset(bc_coords)\n",
    "    \n",
    "    for var in varlist:\n",
    "        if use_dask:\n",
    "            raise NotImplementedError\n",
    "\n",
    "            # TODO: check the below code\n",
    "            curr_da = da.from_array(f_xy[var], chunks=chunksize_xy)\n",
    "            da_reshaped = curr_da.reshape((curr_da.shape[0], len(xy_zcoords), len(xy_ycoords), len(xy_xcoords)))\n",
    "            ds_xy[var] = (('time', 'z', 'y', 'x'), da_reshaped)\n",
    "        else:\n",
    "            with h5py.File(fcampaign) as f_h5py:\n",
    "                curr_arr = f_h5py[curr_varname][var][:]\n",
    "            arr_reshaped = curr_arr.reshape((len(time_file), len(bc_zcoords), len(bc_ycoords), len(bc_xcoords)))\n",
    "            arr_transposed = np.transpose(arr_reshaped, axes=[0,3,2,1])\n",
    "            ds_bc[var] = (('time', 'x', 'y', 'z'), arr_transposed)\n",
    "    ds_bc.to_netcdf(Path(outdir,f\"{curr_varname}{campaign_id}.nc\"))\n",
    "    \n",
    "print(\"End reformatting data\", datetime.now())"
   ]
  },
  {
   "cell_type": "code",
   "execution_count": null,
   "id": "38f5395d",
   "metadata": {},
   "outputs": [],
   "source": []
  }
 ],
 "metadata": {
  "kernelspec": {
   "display_name": "daskenv202404",
   "language": "python",
   "name": "daskenv202404"
  },
  "language_info": {
   "codemirror_mode": {
    "name": "ipython",
    "version": 3
   },
   "file_extension": ".py",
   "mimetype": "text/x-python",
   "name": "python",
   "nbconvert_exporter": "python",
   "pygments_lexer": "ipython3",
   "version": "3.11.9"
  }
 },
 "nbformat": 4,
 "nbformat_minor": 5
}
