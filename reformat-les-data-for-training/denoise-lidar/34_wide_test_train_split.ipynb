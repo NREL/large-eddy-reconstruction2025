{
 "cells": [
  {
   "cell_type": "code",
   "execution_count": 1,
   "id": "a61f25ef",
   "metadata": {
    "tags": []
   },
   "outputs": [
    {
     "data": {
      "text/plain": [
       "<torch._C.Generator at 0x7f7b287a9b30>"
      ]
     },
     "execution_count": 1,
     "metadata": {},
     "output_type": "execute_result"
    }
   ],
   "source": [
    "from pathlib import Path\n",
    "import torch\n",
    "torch.manual_seed(42)"
   ]
  },
  {
   "cell_type": "code",
   "execution_count": 2,
   "id": "908dc78e",
   "metadata": {
    "tags": []
   },
   "outputs": [],
   "source": [
    "### Point to files\n",
    "rootdir = Path(f'/scratch/orybchuk/wakedynamics/bcs-ldm/simulations/072415/large_campaigns/precursor/postprocessing/for_pytorch_wide_5_704_32')\n",
    "# rootdir = Path(f'/scratch/orybchuk/wakedynamics/bcs-ldm/simulations/072415/large_campaigns/precursor/postprocessing/masked_for_pytorch_wide_1_512_32')\n",
    "flist = list(rootdir.glob('*.pt'))\n",
    "flist.sort()\n",
    "\n",
    "traindir = Path(rootdir, 'train')\n",
    "traindir.mkdir(exist_ok=True)\n",
    "testdir = Path(rootdir, 'test')\n",
    "testdir.mkdir(exist_ok=True)\n",
    "valdir = Path(rootdir, 'val')\n",
    "valdir.mkdir(exist_ok=True)\n",
    "flistdir = Path(rootdir, 'flist')\n",
    "flistdir.mkdir(exist_ok=True)"
   ]
  },
  {
   "cell_type": "code",
   "execution_count": 3,
   "id": "089d9dc9",
   "metadata": {
    "tags": []
   },
   "outputs": [],
   "source": [
    "### Split up files\n",
    "## Counting\n",
    "pct_train, pct_val = 0.9, 0.1\n",
    "assert pct_train+pct_val==1, \"Percents don't add up!\"\n",
    "\n",
    "n_tot = len(flist)\n",
    "n_train = int(pct_train*n_tot)+1\n",
    "n_val = int(pct_val*n_tot)\n",
    "assert n_train+n_val==n_tot, f\"Splits don't add up! {n_train+n_val}!={n_tot} Manually partition instead.\"\n",
    "\n",
    "## Split up files\n",
    "generator = torch.Generator().manual_seed(42)\n",
    "train_list, val_list = torch.utils.data.random_split(flist, [n_train, n_val], generator=generator)\n",
    "train_list, val_list = list(train_list), list(val_list)\n",
    "\n",
    "train_list.sort()\n",
    "val_list.sort()\n",
    "\n",
    "## Move files and create flists\n",
    "with open(Path(flistdir, 'train.flist'), 'w') as f:\n",
    "    for file in train_list:\n",
    "        file.rename(Path(traindir, file.name))\n",
    "        f.write(f'{Path(traindir, file.name)}\\n')\n",
    "\n",
    "with open(Path(flistdir, 'val.flist'), 'w') as f:\n",
    "    for file in val_list:\n",
    "        file.rename(Path(valdir, file.name))\n",
    "        f.write(f'{Path(valdir, file.name)}\\n')"
   ]
  },
  {
   "cell_type": "code",
   "execution_count": 4,
   "id": "d49f43b8",
   "metadata": {
    "tags": []
   },
   "outputs": [],
   "source": [
    "foo = torch.load(Path(traindir, 'sample_0000_00.pt'))"
   ]
  },
  {
   "cell_type": "code",
   "execution_count": 5,
   "id": "302723f5",
   "metadata": {
    "tags": []
   },
   "outputs": [
    {
     "data": {
      "text/plain": [
       "torch.Size([5, 704, 32])"
      ]
     },
     "execution_count": 5,
     "metadata": {},
     "output_type": "execute_result"
    }
   ],
   "source": [
    "foo['x'].shape"
   ]
  },
  {
   "cell_type": "code",
   "execution_count": 6,
   "id": "1f79b14c",
   "metadata": {
    "tags": []
   },
   "outputs": [
    {
     "data": {
      "text/plain": [
       "torch.Size([5, 704, 32])"
      ]
     },
     "execution_count": 6,
     "metadata": {},
     "output_type": "execute_result"
    }
   ],
   "source": [
    "foo['y'].shape"
   ]
  },
  {
   "cell_type": "code",
   "execution_count": null,
   "id": "2aeb4078",
   "metadata": {},
   "outputs": [],
   "source": []
  }
 ],
 "metadata": {
  "kernelspec": {
   "display_name": "sciml_2405",
   "language": "python",
   "name": "sciml_2405"
  },
  "language_info": {
   "codemirror_mode": {
    "name": "ipython",
    "version": 3
   },
   "file_extension": ".py",
   "mimetype": "text/x-python",
   "name": "python",
   "nbconvert_exporter": "python",
   "pygments_lexer": "ipython3",
   "version": "3.12.3"
  }
 },
 "nbformat": 4,
 "nbformat_minor": 5
}
