{
 "cells": [
  {
   "cell_type": "markdown",
   "id": "f9f59a36-7526-46b6-9518-bb1ca073d0fb",
   "metadata": {},
   "source": [
    "Combine wide, ground truth data (32 pixels wide) and the upsampled Halo data (21 pixels wide)"
   ]
  },
  {
   "cell_type": "code",
   "execution_count": 1,
   "id": "b7531574-7fff-4546-8f21-557285aea6f1",
   "metadata": {
    "tags": []
   },
   "outputs": [],
   "source": [
    "from datetime import datetime\n",
    "import numpy as np\n",
    "import matplotlib.pyplot as plt\n",
    "import pandas as pd\n",
    "from pathlib import Path\n",
    "import xarray as xr"
   ]
  },
  {
   "cell_type": "code",
   "execution_count": 2,
   "id": "3df2ae2a-5eb6-4439-b940-e464f0115383",
   "metadata": {
    "tags": []
   },
   "outputs": [],
   "source": [
    "### Point to data\n",
    "up_dir = Path('/scratch/orybchuk/wakedynamics/bcs-ldm/simulations/072415/large_campaigns/precursor/postprocessing/upsampled')\n",
    "up_files = list(up_dir.glob('3D*'))\n",
    "up_files.sort()\n",
    "\n",
    "gt_dir = Path('/scratch/orybchuk/wakedynamics/bcs-ldm/simulations/072415/large_campaigns/precursor/postprocessing/wide_ground_truth')\n",
    "gt_files = list(gt_dir.glob('gt*'))\n",
    "gt_files.sort()\n",
    "\n",
    "# assert len(up_files) == len(gt_files), \"Mismatch in the number of processed campaigns!\"\n",
    "n_campaigns = len(up_files)\n",
    "\n",
    "out_dir = Path('/scratch/orybchuk/wakedynamics/bcs-ldm/simulations/072415/large_campaigns/precursor/postprocessing/wide_gt_and_up')\n",
    "out_dir.mkdir(exist_ok=True)"
   ]
  },
  {
   "cell_type": "code",
   "execution_count": 4,
   "id": "f61bba97-6e66-456a-bb34-86dbd1a0d1a1",
   "metadata": {
    "tags": []
   },
   "outputs": [
    {
     "name": "stdout",
     "output_type": "stream",
     "text": [
      "2024-06-12 09:34:03.133394 0 ...\n",
      "2024-06-12 09:34:05.735959 25 ...\n",
      "2024-06-12 09:34:08.317173 50 ...\n",
      "2024-06-12 09:34:11.056241 75 ...\n",
      "2024-06-12 09:34:13.718046 100 ...\n",
      "2024-06-12 09:34:16.321033 125 ...\n",
      "2024-06-12 09:34:19.019601 150 ...\n",
      "2024-06-12 09:34:21.798377 175 ...\n",
      "2024-06-12 09:34:24.630773 200 ...\n",
      "2024-06-12 09:34:27.437077 225 ...\n",
      "2024-06-12 09:34:29.973782 250 ...\n",
      "2024-06-12 09:34:32.687850 275 ...\n",
      "2024-06-12 09:34:35.507379 300 ...\n",
      "2024-06-12 09:34:38.232809 325 ...\n"
     ]
    }
   ],
   "source": [
    "jlo_upsampled = 6\n",
    "jhi_upsampled = jlo_upsampled + 21\n",
    "# nan_fill = 0.5 * (14.34118961191894 + 3.214014355133783)\n",
    "\n",
    "for icampaign, files in enumerate(zip(up_files,gt_files)):\n",
    "    if icampaign % 25 == 0: print(datetime.now(), icampaign, '...')\n",
    "    up_file, gt_file = files[0], files[1]\n",
    "    campaign_id = up_file.name[3:7]\n",
    "    \n",
    "    ds_up = xr.open_dataset(up_file)\n",
    "    ds_gt = xr.open_dataset(gt_file)\n",
    "    \n",
    "    out_coords = {'y': ds_gt['y'],\n",
    "                  'time': ds_gt['time']}\n",
    "    ds_out = xr.Dataset(coords=out_coords)\n",
    "    upsampled_data = np.nan * np.zeros_like(ds_gt['velocityx'].data)\n",
    "    upsampled_data[:,jlo_upsampled:jhi_upsampled] = ds_up['U'].data.T\n",
    "    \n",
    "    ds_out['u_upsampled'] = (('time', 'y'), upsampled_data)\n",
    "    ds_out['u_gt'] = (('time', 'y'), ds_gt['velocityx'].data)\n",
    "    ds_out['v_gt'] = (('time', 'y'), ds_gt['velocityy'].data)\n",
    "    ds_out['w_gt'] = (('time', 'y'), ds_gt['velocityz'].data)\n",
    "    ds_out['T_gt'] = (('time', 'y'), ds_gt['temperature'].data)\n",
    "    ds_out['TKE_gt'] = (('time', 'y'), ds_gt['tke'].data)\n",
    "    \n",
    "    ds_out.to_netcdf(Path(out_dir, f'gt_and_up{campaign_id}.nc'))"
   ]
  },
  {
   "cell_type": "code",
   "execution_count": null,
   "id": "c19abe0e-24e1-4c12-81f7-f5eeaa248d60",
   "metadata": {},
   "outputs": [],
   "source": []
  }
 ],
 "metadata": {
  "kernelspec": {
   "display_name": "daskenv202404",
   "language": "python",
   "name": "daskenv202404"
  },
  "language_info": {
   "codemirror_mode": {
    "name": "ipython",
    "version": 3
   },
   "file_extension": ".py",
   "mimetype": "text/x-python",
   "name": "python",
   "nbconvert_exporter": "python",
   "pygments_lexer": "ipython3",
   "version": "3.11.5"
  }
 },
 "nbformat": 4,
 "nbformat_minor": 5
}
