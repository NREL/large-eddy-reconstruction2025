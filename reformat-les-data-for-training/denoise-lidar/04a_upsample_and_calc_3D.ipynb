{
 "cells": [
  {
   "cell_type": "code",
   "execution_count": 1,
   "id": "a367dfea-9500-4c2f-bff4-74f7cb07aa2f",
   "metadata": {},
   "outputs": [],
   "source": [
    "from Q4_b2lev_to_advinterp_les import halo_interp\n",
    "\n",
    "from datetime import datetime\n",
    "from pathlib import Path\n",
    "import xarray as xr"
   ]
  },
  {
   "cell_type": "code",
   "execution_count": 2,
   "id": "dabd6149-b98a-47a4-8a91-0511c132a907",
   "metadata": {},
   "outputs": [],
   "source": [
    "### Prepare to read data\n",
    "in_dir = Path('/scratch/orybchuk/wakedynamics/bcs-ldm/simulations/072415/large_campaigns/precursor/postprocessing/corrupted')\n",
    "out_dir = Path(in_dir.parent, 'upsampled')\n",
    "out_dir.mkdir(exist_ok=True)\n",
    "\n",
    "b_files = list(in_dir.glob('inflow_b2lev*.nc'))\n",
    "b_files.sort()\n",
    "n_campaigns = len(b_files)"
   ]
  },
  {
   "cell_type": "code",
   "execution_count": 3,
   "id": "88f6b597-7deb-4565-8d2c-f5ab14247eec",
   "metadata": {},
   "outputs": [],
   "source": [
    "### User parameters\n",
    "D = 130.0\n",
    "dx_sim = 10.0\n",
    "gappy_inflow_flag = True"
   ]
  },
  {
   "cell_type": "code",
   "execution_count": null,
   "id": "a372e1b3-9c77-45f3-b781-21a189eb1c0f",
   "metadata": {},
   "outputs": [
    {
     "name": "stdout",
     "output_type": "stream",
     "text": [
      "2024-05-17 15:41:43.097326 0 ...\n",
      "2024-05-17 15:42:11.631235 1 ...\n",
      "2024-05-17 15:42:39.241624 2 ...\n",
      "2024-05-17 15:43:07.735668 3 ...\n",
      "2024-05-17 15:43:38.709049 4 ...\n",
      "2024-05-17 15:44:06.596628 5 ...\n",
      "2024-05-17 15:44:34.459396 6 ...\n",
      "2024-05-17 15:45:02.508533 7 ...\n",
      "2024-05-17 15:45:30.663637 8 ...\n",
      "2024-05-17 15:45:58.921107 9 ...\n",
      "2024-05-17 15:46:27.602989 10 ...\n",
      "2024-05-17 15:46:55.856734 11 ...\n",
      "2024-05-17 15:47:24.214668 12 ...\n",
      "2024-05-17 15:47:52.989857 13 ...\n",
      "2024-05-17 15:48:21.104571 14 ...\n",
      "2024-05-17 15:48:49.473012 15 ...\n",
      "2024-05-17 15:49:17.571194 16 ...\n",
      "2024-05-17 15:49:45.916945 17 ...\n",
      "2024-05-17 15:50:13.891102 18 ...\n",
      "2024-05-17 15:50:42.191634 19 ...\n",
      "2024-05-17 15:51:10.170472 20 ...\n",
      "2024-05-17 15:51:38.376389 21 ...\n",
      "2024-05-17 15:52:06.452703 22 ...\n",
      "2024-05-17 15:52:34.802485 23 ...\n",
      "2024-05-17 15:53:03.284770 24 ...\n",
      "2024-05-17 15:53:31.621525 25 ...\n",
      "2024-05-17 15:53:59.760018 26 ...\n",
      "2024-05-17 15:54:27.369250 27 ...\n",
      "2024-05-17 15:54:55.469522 28 ...\n",
      "2024-05-17 15:55:23.547630 29 ...\n",
      "2024-05-17 15:55:52.074095 30 ...\n",
      "2024-05-17 15:56:20.110331 31 ...\n",
      "2024-05-17 15:56:48.252244 32 ...\n",
      "2024-05-17 15:57:16.282980 33 ...\n",
      "2024-05-17 15:57:44.341998 34 ...\n",
      "2024-05-17 15:58:12.355391 35 ...\n",
      "2024-05-17 15:58:40.950602 36 ...\n",
      "2024-05-17 15:59:08.922412 37 ...\n",
      "2024-05-17 15:59:37.401533 38 ...\n",
      "2024-05-17 16:00:07.961935 39 ...\n",
      "2024-05-17 16:00:36.344076 40 ...\n",
      "2024-05-17 16:01:05.331862 41 ...\n",
      "2024-05-17 16:01:33.503432 42 ...\n",
      "2024-05-17 16:02:01.766580 43 ...\n",
      "2024-05-17 16:02:30.403900 44 ...\n",
      "2024-05-17 16:02:58.625147 45 ...\n",
      "2024-05-17 16:03:27.122824 46 ...\n",
      "2024-05-17 16:03:57.023097 47 ...\n",
      "2024-05-17 16:04:25.052272 48 ...\n"
     ]
    }
   ],
   "source": [
    "### Process data\n",
    "# for icampaign, fcampaign in enumerate(b_files[0:5]):\n",
    "for icampaign, fcampaign in enumerate(b_files):\n",
    "    print(datetime.now(), icampaign, '...')\n",
    "    campaign_id = fcampaign.name[12:16]\n",
    "    \n",
    "    ### ~~~~~~~~~~ Process b2-level data ~~~~~~~~~~\n",
    "    obj = halo_interp(fcampaign, D, dx_sim, gappy_inflow=gappy_inflow_flag)\n",
    "\n",
    "    ### ~~~~~~~~~~ Save out products ~~~~~~~~~~\n",
    "    ds_3D = obj.ds_in_3D\n",
    "    ds_3D.to_netcdf(Path(out_dir, f'3D_{campaign_id}.nc'))\n",
    "    ds_upsampled = obj.ds_merged_in\n",
    "    ds_upsampled.to_netcdf(Path(out_dir, f'upsampled_{campaign_id}.nc'))\n",
    "    ds_in_updated = obj.ds_in  # Save this out because ds_in gets a 'U' variable, which is nice for plotting\n",
    "    ds_in_updated.to_netcdf(Path(out_dir, f'updated_inflow_b2lev_{campaign_id}.nc'))"
   ]
  },
  {
   "cell_type": "code",
   "execution_count": null,
   "id": "d116330a-e5e6-4dee-a325-544dd8e160be",
   "metadata": {},
   "outputs": [],
   "source": []
  }
 ],
 "metadata": {
  "kernelspec": {
   "display_name": "daskenv202404",
   "language": "python",
   "name": "daskenv202404"
  },
  "language_info": {
   "codemirror_mode": {
    "name": "ipython",
    "version": 3
   },
   "file_extension": ".py",
   "mimetype": "text/x-python",
   "name": "python",
   "nbconvert_exporter": "python",
   "pygments_lexer": "ipython3",
   "version": "3.11.5"
  }
 },
 "nbformat": 4,
 "nbformat_minor": 5
}
