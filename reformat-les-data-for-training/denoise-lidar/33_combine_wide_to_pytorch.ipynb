{
 "cells": [
  {
   "cell_type": "markdown",
   "id": "05eb7263",
   "metadata": {},
   "source": [
    "Combine the `.npy` files into `.pt` files for easier data management. I would have done this in `12a.ipynb`, but I don't have any Conda environments that have both Xarray and PyTorch installed."
   ]
  },
  {
   "cell_type": "code",
   "execution_count": 1,
   "id": "26b8c22a",
   "metadata": {
    "tags": []
   },
   "outputs": [],
   "source": [
    "from pathlib import Path\n",
    "import numpy as np\n",
    "import torch"
   ]
  },
  {
   "cell_type": "code",
   "execution_count": 2,
   "id": "cea05742",
   "metadata": {
    "tags": []
   },
   "outputs": [],
   "source": [
    "### Directory management\n",
    "in_dir = Path('/scratch/orybchuk/wakedynamics/bcs-ldm/simulations/072415/large_campaigns/precursor/postprocessing/for_pytorch_wide_5_704_32')\n",
    "# in_dir = Path('/scratch/orybchuk/wakedynamics/bcs-ldm/simulations/072415/large_campaigns/precursor/postprocessing/masked_for_pytorch_wide_1_512_32')\n",
    "in_xfiles = list(in_dir.glob('x_*'))\n",
    "in_xfiles.sort()"
   ]
  },
  {
   "cell_type": "code",
   "execution_count": 3,
   "id": "ada8ee51",
   "metadata": {
    "tags": []
   },
   "outputs": [],
   "source": [
    "### Merge x and y data into one PyTorch dataset\n",
    "delete_npy_flag = True\n",
    "\n",
    "for f_xfile in in_xfiles:\n",
    "    file_id = f_xfile.stem[2:]\n",
    "    f_yfile = Path(in_dir, f'y_{file_id}.npy')\n",
    "    \n",
    "    x_npy = np.load(f_xfile)\n",
    "    y_npy = np.load(f_yfile)\n",
    "    \n",
    "    x_pt = torch.from_numpy(x_npy)\n",
    "    y_pt = torch.from_numpy(y_npy)\n",
    "    x_pt = x_pt.float()\n",
    "    y_pt = y_pt.float()\n",
    "    sample_out = {'x': x_pt, 'y': y_pt}\n",
    "    \n",
    "    torch.save(sample_out, Path(in_dir, f'sample_{file_id}.pt'))\n",
    "    \n",
    "    if delete_npy_flag:\n",
    "        f_xfile.unlink()\n",
    "        f_yfile.unlink()"
   ]
  },
  {
   "cell_type": "code",
   "execution_count": 4,
   "id": "c509d990",
   "metadata": {
    "tags": []
   },
   "outputs": [],
   "source": [
    "demo = torch.load(Path(in_dir, 'sample_0000_00.pt'))"
   ]
  },
  {
   "cell_type": "code",
   "execution_count": null,
   "id": "94024dce",
   "metadata": {
    "tags": []
   },
   "outputs": [],
   "source": [
    "demo['x']"
   ]
  },
  {
   "cell_type": "code",
   "execution_count": null,
   "id": "8e9767e7",
   "metadata": {
    "tags": []
   },
   "outputs": [],
   "source": [
    "demo['y']"
   ]
  },
  {
   "cell_type": "code",
   "execution_count": null,
   "id": "ebd21f2b",
   "metadata": {},
   "outputs": [],
   "source": []
  }
 ],
 "metadata": {
  "kernelspec": {
   "display_name": "sciml_2405",
   "language": "python",
   "name": "sciml_2405"
  },
  "language_info": {
   "codemirror_mode": {
    "name": "ipython",
    "version": 3
   },
   "file_extension": ".py",
   "mimetype": "text/x-python",
   "name": "python",
   "nbconvert_exporter": "python",
   "pygments_lexer": "ipython3",
   "version": "3.12.3"
  }
 },
 "nbformat": 4,
 "nbformat_minor": 5
}
